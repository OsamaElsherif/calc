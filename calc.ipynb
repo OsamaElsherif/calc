{
 "cells": [
  {
   "cell_type": "code",
   "execution_count": 2,
   "source": [
    "import matplotlib.pyplot as plt\r\n",
    "import sympy as smp\r\n",
    "import numpy as np\r\n",
    "import scipy as sp\r\n",
    "from scipy.misc import derivative\r\n",
    "from sympy import *\r\n",
    "from sympy.calculus.util import continuous_domain, function_range, maximum, minimum, stationary_points"
   ],
   "outputs": [],
   "metadata": {}
  },
  {
   "cell_type": "markdown",
   "source": [
    "<h1 style='text-align:center'> For a Normal Aproch </h1>"
   ],
   "metadata": {}
  },
  {
   "cell_type": "code",
   "execution_count": null,
   "source": [
    "# for drivatives in analtical way\r\n",
    "x, y, z = smp.symbols('x y z')\r\n",
    "f = smp.symbols('f', cls=smp.Function)\r\n",
    "# function\r\n",
    "f = 1/x * smp.sin(x)**2\r\n",
    "# get the diravative\r\n",
    "dydx = smp.diff(f)"
   ],
   "outputs": [],
   "metadata": {}
  },
  {
   "cell_type": "markdown",
   "source": [
    "<h2 style='text-align:center;'> The Function </h2>"
   ],
   "metadata": {}
  },
  {
   "cell_type": "code",
   "execution_count": null,
   "source": [
    "# function\r\n",
    "f"
   ],
   "outputs": [
    {
     "output_type": "execute_result",
     "data": {
      "text/latex": [
       "$\\displaystyle \\frac{\\sin^{2}{\\left(x \\right)}}{x}$"
      ],
      "text/plain": [
       "sin(x)**2/x"
      ]
     },
     "metadata": {},
     "execution_count": 639
    }
   ],
   "metadata": {}
  },
  {
   "cell_type": "markdown",
   "source": [
    "<h2 style='text-align:center;'> Is Polynomial ?!</h2>"
   ],
   "metadata": {}
  },
  {
   "cell_type": "code",
   "execution_count": null,
   "source": [
    "# is polynomial\r\n",
    "if f.is_polynomial():\r\n",
    "    print('is polynomial')\r\n",
    "else:\r\n",
    "    print('not polynomial')"
   ],
   "outputs": [],
   "metadata": {}
  },
  {
   "cell_type": "markdown",
   "source": [
    "<h2 style='text-align:center;'> Domain of the Function</h2>"
   ],
   "metadata": {}
  },
  {
   "cell_type": "code",
   "execution_count": null,
   "source": [
    "# domain\r\n",
    "domain = continuous_domain(f, x, S.Reals)\r\n",
    "domain"
   ],
   "outputs": [
    {
     "output_type": "execute_result",
     "data": {
      "text/latex": [
       "$\\displaystyle \\left(-\\infty, 0\\right) \\cup \\left(0, \\infty\\right)$"
      ],
      "text/plain": [
       "Union(Interval.open(-oo, 0), Interval.open(0, oo))"
      ]
     },
     "metadata": {},
     "execution_count": 641
    }
   ],
   "metadata": {}
  },
  {
   "cell_type": "markdown",
   "source": [
    "<h2 style='text-align:center;'> Range of the Function if Applicable</h2>\r\n",
    "<h3 style='text-align:center;'> you can by intution get it after a few cells down, if this didn't work. </p>"
   ],
   "metadata": {}
  },
  {
   "cell_type": "code",
   "execution_count": null,
   "source": [
    "# domain\r\n",
    "try:\r\n",
    "    function_range(f, x, S.Reals)\r\n",
    "except:\r\n",
    "    pass"
   ],
   "outputs": [],
   "metadata": {}
  },
  {
   "cell_type": "markdown",
   "source": [
    "<h2 style='text-align:center;'> Diravite of the Function </h2>"
   ],
   "metadata": {}
  },
  {
   "cell_type": "code",
   "execution_count": null,
   "source": [
    "# function diravtive\r\n",
    "dydx"
   ],
   "outputs": [
    {
     "output_type": "execute_result",
     "data": {
      "text/latex": [
       "$\\displaystyle \\frac{2 \\sin{\\left(x \\right)} \\cos{\\left(x \\right)}}{x} - \\frac{\\sin^{2}{\\left(x \\right)}}{x^{2}}$"
      ],
      "text/plain": [
       "2*sin(x)*cos(x)/x - sin(x)**2/x**2"
      ]
     },
     "metadata": {},
     "execution_count": 643
    }
   ],
   "metadata": {}
  },
  {
   "cell_type": "markdown",
   "source": [
    "<h2 style='text-align:center;'> Diravite Simplifications if exists</h2>"
   ],
   "metadata": {}
  },
  {
   "cell_type": "code",
   "execution_count": null,
   "source": [
    "dydx.simplify()"
   ],
   "outputs": [
    {
     "output_type": "execute_result",
     "data": {
      "text/latex": [
       "$\\displaystyle \\frac{x \\sin{\\left(2 x \\right)} + \\frac{\\cos{\\left(2 x \\right)}}{2} - \\frac{1}{2}}{x^{2}}$"
      ],
      "text/plain": [
       "(x*sin(2*x) + cos(2*x)/2 - 1/2)/x**2"
      ]
     },
     "metadata": {},
     "execution_count": 644
    }
   ],
   "metadata": {}
  },
  {
   "cell_type": "markdown",
   "source": [
    "<h2 style='text-align:center;'> Check the domain </h2>\r\n",
    "<h3 style='text-align:center;'> if the domain goes from -oo and ends to oo them it is okay, but if they was any value, put them in the numpy linesspace, to avoid any errors</h3>"
   ],
   "metadata": {}
  },
  {
   "cell_type": "code",
   "execution_count": null,
   "source": [
    "i = input('check the domain')"
   ],
   "outputs": [],
   "metadata": {}
  },
  {
   "cell_type": "code",
   "execution_count": null,
   "source": [
    "xaxis = np.linspace(-10, 10, 1000)\r\n",
    "# y = f(xaxis)\r\n",
    "vx = np.zeros(len(xaxis))\r\n",
    "vy = np.zeros(len(xaxis))\r\n",
    "for n in range(0, len(xaxis)):\r\n",
    "    vx[n] = smp.N(dydx.subs(x, xaxis[n]))\r\n",
    "    vy[n] = smp.N(f.subs(x, xaxis[n]))"
   ],
   "outputs": [],
   "metadata": {}
  },
  {
   "cell_type": "markdown",
   "source": [
    "<h2 style='text-align:center;'> Graphing th Function and its Driviative </h2>\r\n",
    "<h3 style='text-align:center;'> The Function Graphing needs your knowledge of the Domain and Range concpts, to avoid being mistaken while reading the graphs </h3>"
   ],
   "metadata": {}
  },
  {
   "cell_type": "code",
   "execution_count": null,
   "source": [
    "plt.title('Function')\r\n",
    "plt.plot(xaxis, vy)\r\n",
    "plt.show()\r\n",
    "\r\n",
    "plt.title('Derivative')\r\n",
    "plt.plot(xaxis, vx)\r\n",
    "plt.show()"
   ],
   "outputs": [
    {
     "output_type": "display_data",
     "data": {
      "image/png": "[encoded data removed]",
      "text/plain": [
       "<Figure size 432x288 with 1 Axes>"
      ]
     },
     "metadata": {
      "needs_background": "light"
     }
    },
    {
     "output_type": "display_data",
     "data": {
      "image/png": "[encoded data removed]",
      "text/plain": [
       "<Figure size 432x288 with 1 Axes>"
      ]
     },
     "metadata": {
      "needs_background": "light"
     }
    }
   ],
   "metadata": {}
  },
  {
   "cell_type": "markdown",
   "source": [
    "<h2 style='text-align:center;'> Minimum and Maximum Graphings </h2>"
   ],
   "metadata": {}
  },
  {
   "cell_type": "code",
   "execution_count": null,
   "source": [
    "plt.title('maximum')\r\n",
    "plt.plot(xaxis, np.maximum(vy, 0))\r\n",
    "plt.show()\r\n",
    "\r\n",
    "plt.title('minimum')\r\n",
    "plt.plot(xaxis, np.minimum(vy, 0))\r\n",
    "plt.show()"
   ],
   "outputs": [
    {
     "output_type": "display_data",
     "data": {
      "image/png": "[encoded data removed]",
      "text/plain": [
       "<Figure size 432x288 with 1 Axes>"
      ]
     },
     "metadata": {
      "needs_background": "light"
     }
    },
    {
     "output_type": "display_data",
     "data": {
      "image/png": "[encoded data removed]",
      "text/plain": [
       "<Figure size 432x288 with 1 Axes>"
      ]
     },
     "metadata": {
      "needs_background": "light"
     }
    }
   ],
   "metadata": {}
  },
  {
   "cell_type": "markdown",
   "source": [
    "<h2 style='text-align:center;'> Getting the crircal points of the Function</h2>\r\n",
    "<h3 style='text-align:center;'> The list isn't as accurate as the Notation, the Notation gives the stationary(critical) points</h3>"
   ],
   "metadata": {}
  },
  {
   "cell_type": "code",
   "execution_count": null,
   "source": [
    " criticals = xaxis[1:][vy[1:] * vy[:-1] < 0]\r\n",
    " print(f\"f(x) is zero when x is {criticals}\")\r\n",
    " stationary_points(f, x)"
   ],
   "outputs": [
    {
     "output_type": "stream",
     "name": "stdout",
     "text": [
      "f(x) is zero when x is [0.01001001]\n"
     ]
    },
    {
     "output_type": "execute_result",
     "data": {
      "text/latex": [
       "$\\displaystyle \\left\\{0\\right\\} \\cup \\left\\{x\\; \\middle|\\; x \\in \\left(-\\infty, 0\\right) \\cup \\left(0, \\infty\\right) \\wedge 2 x \\cos{\\left(x \\right)} - \\sin{\\left(x \\right)} = 0 \\right\\}$"
      ],
      "text/plain": [
       "Union(ConditionSet(x, Eq(2*x*cos(x) - sin(x), 0), Union(Interval.open(-oo, 0), Interval.open(0, oo))), FiniteSet(0))"
      ]
     },
     "metadata": {},
     "execution_count": 649
    }
   ],
   "metadata": {}
  },
  {
   "cell_type": "markdown",
   "source": [
    "<h2 style='text-align:center;'> The Domain and Range </h2>\r\n",
    "<h3 style='text-align:center;'> Showing the Range in more intuative ways if it didn't appeared above</h3>"
   ],
   "metadata": {}
  },
  {
   "cell_type": "code",
   "execution_count": null,
   "source": [
    "print('Domian => ', str(continuous_domain(f, x, S.Reals)))\r\n",
    "print('Range => ', '[' ,vy.min().round(5), vy.max().round(5), ']')\r\n",
    "try:\r\n",
    "    print('minimum : ', minimum(f, x))\r\n",
    "    print('maximum : ', maximum(f, x))\r\n",
    "except:\r\n",
    "    pass"
   ],
   "outputs": [
    {
     "output_type": "stream",
     "name": "stdout",
     "text": [
      "Domian =>  Union(Interval.open(-oo, 0), Interval.open(0, oo))\n",
      "Range =>  [ -0.72459 0.72459 ]\n"
     ]
    }
   ],
   "metadata": {}
  },
  {
   "cell_type": "code",
   "execution_count": null,
   "source": [
    "i = input('Do u want the inverse')"
   ],
   "outputs": [],
   "metadata": {}
  },
  {
   "cell_type": "markdown",
   "source": [
    "<h2 style='text-align:center;'>Getting the inverse of the Functions</h2>\r\n",
    "<h3 style='text-align:center;'>Not the trignometric functions, sadly :(</h3>"
   ],
   "metadata": {}
  },
  {
   "cell_type": "code",
   "execution_count": 5,
   "source": [
    "# inverse\r\n",
    "inverse = smp.solve(smp.Equality(f, y), x)[0]\r\n",
    "fxn = inverse.subs(y, x)\r\n",
    "smp.Equality(y, fxn)"
   ],
   "outputs": [],
   "metadata": {}
  },
  {
   "cell_type": "markdown",
   "source": [
    "<h2 style='text-align:center;'> Testing if the inverse is correct </h2>"
   ],
   "metadata": {}
  },
  {
   "cell_type": "code",
   "execution_count": null,
   "source": [
    "# test the inverse\r\n",
    "fxn.subs(x, f).doit().simplify()"
   ],
   "outputs": [
    {
     "output_type": "execute_result",
     "data": {
      "text/latex": [
       "$\\displaystyle - \\sqrt{x^{2}}$"
      ],
      "text/plain": [
       "-sqrt(x**2)"
      ]
     },
     "metadata": {},
     "execution_count": 235
    }
   ],
   "metadata": {}
  },
  {
   "cell_type": "markdown",
   "source": [
    "<h2 style='text-align:center;'> Graphing the Function and its inverse in the same plot </h2>\r\n",
    "<h3 style='text-align:center;'> uncooment for usage, by pressing (Alt + /), or by removing the ( # ) </h3>"
   ],
   "metadata": {}
  },
  {
   "cell_type": "code",
   "execution_count": null,
   "source": [
    "# for n in range(0, len(xaxis)):\r\n",
    "#     vx[n] = smp.N(fxn.subs(x, xaxis[n]))\r\n",
    "# plt.title('Inverse Function')\r\n",
    "# plt.plot(xaxis, vx)\r\n",
    "# plt.show()"
   ],
   "outputs": [],
   "metadata": {}
  },
  {
   "cell_type": "markdown",
   "source": [
    "<h1 style='text-align: center;'>Limits and Continuty</h1>"
   ],
   "metadata": {}
  },
  {
   "cell_type": "markdown",
   "source": [
    "<h2 style='text-align:center;'> getting of a function(s) is continus at a point or not, and getting the limits</h2>"
   ],
   "metadata": {}
  },
  {
   "cell_type": "code",
   "execution_count": null,
   "source": [
    "# continty check\r\n",
    "def is_con(functions, value, around):\r\n",
    "    l = []\r\n",
    "    print(\"Be Aware of the zeros of the function\")\r\n",
    "    for function in functions:\r\n",
    "        try:\r\n",
    "            print(continuous_domain(function, value, S.Reals))\r\n",
    "        except:\r\n",
    "            pass\r\n",
    "        if smp.limit(function, value, around, dir='-') == smp.limit(function, value, around, dir='+'):\r\n",
    "            r = smp.limit(function, value, around, dir='-').doit().evalf()\r\n",
    "            print(r'{}'.format(function))\r\n",
    "            print(f'the function is continues around {around} at {r}')\r\n",
    "            l.append(r)\r\n",
    "        else:\r\n",
    "            print(r'{}'.format(function))\r\n",
    "            print(f'the function isn\\'t continues around {around}')\r\n",
    "            print('from the left : ', smp.limit(function, value, around, dir='-').doit().evalf())\r\n",
    "            print('from the right : ', smp.limit(function, value, around, dir='+').doit().evalf())\r\n",
    "    \r\n",
    "    if len(functions) == len(l):\r\n",
    "        print(functions)\r\n",
    "        if sum(l)/len(l) == l[0]:\r\n",
    "            print(f'the function is continues around {around}')\r\n",
    "        else:\r\n",
    "            print(f'the function is\\'t continues around {around}')\r\n",
    "    else:\r\n",
    "        print(f'the function is\\'t continues around {around}')\r\n",
    "\r\n",
    "# finding the limit\r\n",
    "def l(functions, value, around, dir):\r\n",
    "    for function in functions:\r\n",
    "        print(function)\r\n",
    "        r = smp.limit(function, value, around, dir='+').doit().evalf()\r\n",
    "        print('the limit at ', around, 'is', r)"
   ],
   "outputs": [],
   "metadata": {}
  },
  {
   "cell_type": "markdown",
   "source": [
    "<h2 style='text-align:center;'> Write the Function(s) as a dictionary form, to use is_con(  ) and l(  )</h2>"
   ],
   "metadata": {}
  },
  {
   "cell_type": "code",
   "execution_count": null,
   "source": [
    "f = [smp.sin(x) / x, 1]"
   ],
   "outputs": [],
   "metadata": {}
  },
  {
   "cell_type": "markdown",
   "source": [
    "<h2 style='text-align:center;'> l ( function( s ), sympol, value[ approchs to --> ], direction )</h2>"
   ],
   "metadata": {}
  },
  {
   "cell_type": "code",
   "execution_count": null,
   "source": [
    "l(f, x, 3, '-')"
   ],
   "outputs": [
    {
     "output_type": "stream",
     "name": "stdout",
     "text": [
      "sin(x)/x\n",
      "the limit at  3 is 0.0470400026866224\n",
      "1\n",
      "the limit at  3 is 1.00000000000000\n"
     ]
    }
   ],
   "metadata": {}
  },
  {
   "cell_type": "markdown",
   "source": [
    "<h2 style='text-align:center;'> is_con (  function( x ) , sympol, value[ approchs to --> ] )</h2>"
   ],
   "metadata": {}
  },
  {
   "cell_type": "code",
   "execution_count": null,
   "source": [
    "is_con(f, x, 3)"
   ],
   "outputs": [
    {
     "output_type": "stream",
     "name": "stdout",
     "text": [
      "Be Aware of the zeros of the function\n",
      "Union(Interval.open(-oo, 0), Interval.open(0, oo))\n",
      "sin(x)/x\n",
      "the function is continues around 3 at 0.0470400026866224\n",
      "1\n",
      "the function is continues around 3 at 1.00000000000000\n",
      "[sin(x)/x, 1]\n",
      "the function is't continues around 3\n"
     ]
    }
   ],
   "metadata": {}
  },
  {
   "cell_type": "markdown",
   "source": [
    "<h1 style='text-align:center'> Drivatives </h1>"
   ],
   "metadata": {}
  },
  {
   "cell_type": "code",
   "execution_count": null,
   "source": [
    "x, y, z = smp.symbols('x y z')\r\n",
    "def fx(function):\r\n",
    "    dydx = lambda value: function\r\n",
    "    return dydx(x)\r\n",
    "\r\n",
    "def dydx(function, degree=1):\r\n",
    "    d = smp.diff(function)\r\n",
    "    if degree == 1:\r\n",
    "        d\r\n",
    "    else:\r\n",
    "        for n in range(1, degree):\r\n",
    "            d = smp.diff(d)\r\n",
    "    return d"
   ],
   "outputs": [],
   "metadata": {}
  },
  {
   "cell_type": "code",
   "execution_count": null,
   "source": [
    "# creating the function\r\n",
    "f = fx(smp.sin(x))\r\n",
    "f"
   ],
   "outputs": [
    {
     "output_type": "execute_result",
     "data": {
      "text/latex": [
       "$\\displaystyle \\sin{\\left(x \\right)}$"
      ],
      "text/plain": [
       "sin(x)"
      ]
     },
     "metadata": {},
     "execution_count": 512
    }
   ],
   "metadata": {}
  },
  {
   "cell_type": "code",
   "execution_count": null,
   "source": [
    "# getting the dirivitve\r\n",
    "dydx(f)"
   ],
   "outputs": [
    {
     "output_type": "execute_result",
     "data": {
      "text/latex": [
       "$\\displaystyle \\cos{\\left(x \\right)}$"
      ],
      "text/plain": [
       "cos(x)"
      ]
     },
     "metadata": {},
     "execution_count": 513
    }
   ],
   "metadata": {}
  },
  {
   "cell_type": "markdown",
   "source": [
    "<h1 style='text-align:center;'>Integration</hq>"
   ],
   "metadata": {}
  },
  {
   "cell_type": "code",
   "execution_count": null,
   "source": [
    "# (function, (symbol, a, b))\r\n",
    "smp.integrate(fx(x), (x))"
   ],
   "outputs": [
    {
     "output_type": "execute_result",
     "data": {
      "text/latex": [
       "$\\displaystyle \\frac{x^{2}}{2}$"
      ],
      "text/plain": [
       "x**2/2"
      ]
     },
     "metadata": {},
     "execution_count": 517
    }
   ],
   "metadata": {}
  },
  {
   "cell_type": "markdown",
   "source": [
    "<h1 style=\"text-align:center;\">Applications of Integration</h1>\r\n",
    "<h2 style=\"text-align:center;\">I just took about four applications, feel free to add more</h2>"
   ],
   "metadata": {}
  },
  {
   "cell_type": "markdown",
   "source": [
    "<h3 style=\"text-align:center;\"> Area Under The Curve </h3>"
   ],
   "metadata": {}
  },
  {
   "cell_type": "markdown",
   "source": [
    "$$ \\int_a^b  f(x)  dx $$"
   ],
   "metadata": {}
  },
  {
   "cell_type": "code",
   "execution_count": null,
   "source": [
    "# Area under the curve\r\n",
    "f = lambda x: x**2 # making the function\r\n",
    "# a = 0\r\n",
    "# b = 1\r\n",
    "\r\n",
    "# (function, (sympol, a, b))\r\n",
    "# to evaluate write a, b\r\n",
    "# add .doit().evalf()\r\n",
    "smp.integrate(f(x), (x))\r\n"
   ],
   "outputs": [
    {
     "output_type": "execute_result",
     "data": {
      "text/latex": [
       "$\\displaystyle \\frac{x^{3}}{3}$"
      ],
      "text/plain": [
       "x**3/3"
      ]
     },
     "metadata": {},
     "execution_count": 565
    }
   ],
   "metadata": {}
  },
  {
   "cell_type": "code",
   "execution_count": null,
   "source": [
    "xaxis = np.linspace(-10, 10, 1000)\r\n",
    "# y = f(xaxis)\r\n",
    "vx = np.zeros(len(xaxis))\r\n",
    "for n in range(0, len(xaxis)):\r\n",
    "    vx[n] = smp.N(f(x).subs(x, xaxis[n]))"
   ],
   "outputs": [],
   "metadata": {}
  },
  {
   "cell_type": "code",
   "execution_count": null,
   "source": [
    "plt.plot(xaxis, vx)"
   ],
   "outputs": [
    {
     "output_type": "execute_result",
     "data": {
      "text/plain": [
       "[<matplotlib.lines.Line2D at 0x23ee1c2eac0>]"
      ]
     },
     "metadata": {},
     "execution_count": 568
    },
    {
     "output_type": "display_data",
     "data": {
      "image/png": "[encoded data removed]",
      "text/plain": [
       "<Figure size 432x288 with 1 Axes>"
      ]
     },
     "metadata": {
      "needs_background": "light"
     }
    }
   ],
   "metadata": {}
  },
  {
   "cell_type": "markdown",
   "source": [
    "<h3 style=\"text-align:center;\"> Area Between The Curves </h3>"
   ],
   "metadata": {}
  },
  {
   "cell_type": "markdown",
   "source": [
    "$$ \\int_a^b F(x) - G(x), d(x) $$"
   ],
   "metadata": {}
  },
  {
   "cell_type": "code",
   "execution_count": null,
   "source": [
    "# Area under the curve\r\n",
    "f = lambda x: x+10 # making the function\r\n",
    "g = lambda x: x**2 # making the function\r\n",
    "\r\n",
    "smp.integrate(f(x) - g(x), (x))"
   ],
   "outputs": [
    {
     "output_type": "execute_result",
     "data": {
      "text/latex": [
       "$\\displaystyle - \\frac{x^{3}}{3} + \\frac{x^{2}}{2} + 10 x$"
      ],
      "text/plain": [
       "-x**3/3 + x**2/2 + 10*x"
      ]
     },
     "metadata": {},
     "execution_count": 556
    }
   ],
   "metadata": {}
  },
  {
   "cell_type": "code",
   "execution_count": null,
   "source": [
    "# y = f(xaxis)\r\n",
    "vx1 = np.zeros(len(xaxis))\r\n",
    "vx2 = np.zeros(len(xaxis))\r\n",
    "for n in range(0, len(xaxis)):\r\n",
    "    vx1[n] = smp.N(f(x).subs(x, xaxis[n]))\r\n",
    "    vx2[n] = smp.N(g(x).subs(x, xaxis[n]))"
   ],
   "outputs": [],
   "metadata": {}
  },
  {
   "cell_type": "code",
   "execution_count": null,
   "source": [
    "plt.plot(xaxis, vx1)\r\n",
    "plt.plot(xaxis, vx2)"
   ],
   "outputs": [
    {
     "output_type": "execute_result",
     "data": {
      "text/plain": [
       "[<matplotlib.lines.Line2D at 0x23ee0677190>]"
      ]
     },
     "metadata": {},
     "execution_count": 564
    },
    {
     "output_type": "display_data",
     "data": {
      "image/png": "[encoded data removed]",
      "text/plain": [
       "<Figure size 432x288 with 1 Axes>"
      ]
     },
     "metadata": {
      "needs_background": "light"
     }
    }
   ],
   "metadata": {}
  },
  {
   "cell_type": "markdown",
   "source": [
    "<h3 style=\"text-align:center;\"> Voluem Solid of Revolution </h3>"
   ],
   "metadata": {}
  },
  {
   "cell_type": "markdown",
   "source": [
    "$$ Around \\space\\space the \\space\\space x-axis $$\r\n",
    "$$ \\int_a^b \\pi(f(x))^2, dx $$\r\n",
    "$$ Around \\space\\space the \\space\\space y-axis $$\r\n",
    "$$ \\int_a^b \\pi(f(y))^2, dy $$"
   ],
   "metadata": {}
  },
  {
   "cell_type": "code",
   "execution_count": null,
   "source": [
    "# create the function\r\n",
    "f = lambda x: x**2\r\n",
    "\r\n",
    "smp.integrate(smp.pi*(f(x))**2, (x))"
   ],
   "outputs": [
    {
     "output_type": "execute_result",
     "data": {
      "text/latex": [
       "$\\displaystyle \\frac{\\pi x^{5}}{5}$"
      ],
      "text/plain": [
       "pi*x**5/5"
      ]
     },
     "metadata": {},
     "execution_count": 572
    }
   ],
   "metadata": {}
  },
  {
   "cell_type": "code",
   "execution_count": null,
   "source": [
    "vx = np.zeros(len(xaxis))\r\n",
    "for n in range(0, len(xaxis)):\r\n",
    "    vx[n] = smp.N(f(x).subs(x, xaxis[n]))\r\n",
    "plt.plot(xaxis, vx)"
   ],
   "outputs": [
    {
     "output_type": "execute_result",
     "data": {
      "text/plain": [
       "[<matplotlib.lines.Line2D at 0x23ee1c8c730>]"
      ]
     },
     "metadata": {},
     "execution_count": 571
    },
    {
     "output_type": "display_data",
     "data": {
      "image/png": "[encoded data removed]",
      "text/plain": [
       "<Figure size 432x288 with 1 Axes>"
      ]
     },
     "metadata": {
      "needs_background": "light"
     }
    }
   ],
   "metadata": {}
  },
  {
   "cell_type": "markdown",
   "source": [
    "<h3 style='text-align:center;'> Voluem of Solid of the Bounded Area Between The Curves</h3>"
   ],
   "metadata": {}
  },
  {
   "cell_type": "markdown",
   "source": [
    "\r\n",
    "$$ Around \\space\\space the \\space\\space x-axis $$\r\n",
    "$$ \\int_a^b 2\\pi x(F(x) - G(x)), dx $$\r\n",
    "$$ Around \\space\\space the \\space\\space y-axis $$\r\n",
    "$$ \\int_a^b 2\\pi y(F(y) - G(y)), dy $$"
   ],
   "metadata": {}
  },
  {
   "cell_type": "code",
   "execution_count": null,
   "source": [
    "# Functions\r\n",
    "f = lambda x: x\r\n",
    "g = lambda x: x**2\r\n",
    "\r\n",
    "smp.integrate(2*smp.pi*x*(f(x) - g(x)), (x))"
   ],
   "outputs": [
    {
     "output_type": "execute_result",
     "data": {
      "text/latex": [
       "$\\displaystyle - \\frac{\\pi x^{4}}{2} + \\frac{2 \\pi x^{3}}{3}$"
      ],
      "text/plain": [
       "-pi*x**4/2 + 2*pi*x**3/3"
      ]
     },
     "metadata": {},
     "execution_count": 584
    }
   ],
   "metadata": {}
  },
  {
   "cell_type": "code",
   "execution_count": null,
   "source": [
    "vx1 = np.zeros(len(xaxis))\r\n",
    "vx2 = np.zeros(len(xaxis))\r\n",
    "for n in range(0, len(xaxis)):\r\n",
    "    vx1[n] = smp.N(f(x).subs(x, xaxis[n]))\r\n",
    "    vx2[n] = smp.N(g(x).subs(x, xaxis[n]))\r\n",
    "plt.plot(xaxis, vx1)\r\n",
    "plt.plot(xaxis, vx2)"
   ],
   "outputs": [
    {
     "output_type": "execute_result",
     "data": {
      "text/plain": [
       "[<matplotlib.lines.Line2D at 0x23ee1eb78e0>]"
      ]
     },
     "metadata": {},
     "execution_count": 585
    },
    {
     "output_type": "display_data",
     "data": {
      "image/png": "[encoded data removed]",
      "text/plain": [
       "<Figure size 432x288 with 1 Axes>"
      ]
     },
     "metadata": {
      "needs_background": "light"
     }
    }
   ],
   "metadata": {}
  },
  {
   "cell_type": "markdown",
   "source": [
    "<h3 style='text-align:center;'> Arc Length </h3>"
   ],
   "metadata": {}
  },
  {
   "cell_type": "markdown",
   "source": [
    "$$ \\int_a^b \\sqrt{1+(F(x)^`)^2}, dx $$"
   ],
   "metadata": {}
  },
  {
   "cell_type": "code",
   "execution_count": null,
   "source": [
    "# Function\r\n",
    "f = lambda x: (x**2)/2\r\n",
    "\r\n",
    "smp.integrate(smp.root(1+((smp.diff(f(x))**2)), 2), (x))"
   ],
   "outputs": [
    {
     "output_type": "execute_result",
     "data": {
      "text/latex": [
       "$\\displaystyle \\frac{x \\sqrt{x^{2} + 1}}{2} + \\frac{\\operatorname{asinh}{\\left(x \\right)}}{2}$"
      ],
      "text/plain": [
       "x*sqrt(x**2 + 1)/2 + asinh(x)/2"
      ]
     },
     "metadata": {},
     "execution_count": 599
    }
   ],
   "metadata": {}
  },
  {
   "cell_type": "code",
   "execution_count": null,
   "source": [
    "vx = np.zeros(len(xaxis))\r\n",
    "for n in range(0, len(xaxis)):\r\n",
    "    vx[n] = smp.N(f(x).subs(x, xaxis[n]))\r\n",
    "plt.plot(xaxis, vx)"
   ],
   "outputs": [
    {
     "output_type": "execute_result",
     "data": {
      "text/plain": [
       "[<matplotlib.lines.Line2D at 0x23ee00dd760>]"
      ]
     },
     "metadata": {},
     "execution_count": 600
    },
    {
     "output_type": "display_data",
     "data": {
      "image/png": "[encoded data removed]",
      "text/plain": [
       "<Figure size 432x288 with 1 Axes>"
      ]
     },
     "metadata": {
      "needs_background": "light"
     }
    }
   ],
   "metadata": {}
  },
  {
   "cell_type": "markdown",
   "source": [
    "<h3 style='text-align:center'> Linerization of a function</h3>"
   ],
   "metadata": {}
  },
  {
   "cell_type": "markdown",
   "source": [
    "$$ L(x) = f(a) + f(a)^` (x - a) $$"
   ],
   "metadata": {}
  },
  {
   "cell_type": "code",
   "execution_count": null,
   "source": [
    "f = lambda x: smp.ln(x)\r\n",
    "L = lambda x, a: f(a) + (smp.diff(a)*(x - a))"
   ],
   "outputs": [],
   "metadata": {}
  },
  {
   "cell_type": "code",
   "execution_count": null,
   "source": [
    "L(1, 1.05).doit().evalf()"
   ],
   "outputs": [
    {
     "output_type": "execute_result",
     "data": {
      "text/latex": [
       "$\\displaystyle 0.048790164169432$"
      ],
      "text/plain": [
       "0.0487901641694320"
      ]
     },
     "metadata": {},
     "execution_count": 629
    }
   ],
   "metadata": {}
  }
 ],
 "metadata": {
  "orig_nbformat": 4,
  "language_info": {
   "name": "python",
   "version": "3.9.6",
   "mimetype": "text/x-python",
   "codemirror_mode": {
    "name": "ipython",
    "version": 3
   },
   "pygments_lexer": "ipython3",
   "nbconvert_exporter": "python",
   "file_extension": ".py"
  },
  "kernelspec": {
   "name": "python3",
   "display_name": "Python 3.9.6 64-bit ('.venv': venv)"
  },
  "interpreter": {
   "hash": "433e6b5ef5385db9cb7c4f823b06e367fa468c585cd0080510f00b2cdce90766"
  }
 },
 "nbformat": 4,
 "nbformat_minor": 2
}